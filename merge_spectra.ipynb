{
 "cells": [
  {
   "cell_type": "markdown",
   "id": "772736c8",
   "metadata": {},
   "source": [
    "Importing modules"
   ]
  },
  {
   "cell_type": "code",
   "execution_count": null,
   "id": "f3fcf554",
   "metadata": {},
   "outputs": [],
   "source": [
    "import numpy as np\n",
    "from spectral_cube import SpectralCube\n",
    "from astropy.table import Table\n",
    "from helpers import get_error_spectrum"
   ]
  },
  {
   "cell_type": "markdown",
   "id": "4e126583",
   "metadata": {},
   "source": [
    "# Read spectrum"
   ]
  },
  {
   "cell_type": "code",
   "execution_count": 6,
   "id": "51ac22fc",
   "metadata": {},
   "outputs": [],
   "source": [
    "def read_spectrum(fits_file, subtracted_fits_file, x, y):\n",
    "    subtracted_cube = SpectralCube.read(subtracted_fits_file)\n",
    "    wave = subtracted_cube.spectral_axis\n",
    "    flux = subtracted_cube.unmasked_data[:, y, x]\n",
    "    error = get_error_spectrum(fits_file, subtracted_cube, x, y)\n",
    "    return wave, flux, error"
   ]
  },
  {
   "cell_type": "markdown",
   "id": "252bf68a",
   "metadata": {},
   "source": [
    "# Merge spectrum overlaps"
   ]
  },
  {
   "cell_type": "code",
   "execution_count": null,
   "id": "9cb41c44",
   "metadata": {},
   "outputs": [],
   "source": [
    "def merge_overlap(w1, f1, e1, w2, f2, e2):\n",
    "    middle = (max(w1[0], w2[0]) + min(w1[-1], w2[-1])) / 2\n",
    "    left_w = w1[w1 < middle]\n",
    "    left_f = f1[w1 < middle]\n",
    "    left_e = e1[w1 < middle]\n",
    "    right_w = w2[w2 > middle]\n",
    "    right_f = f2[w2 > middle]\n",
    "    right_e = e2[w2 > middle]\n",
    "\n",
    "    wave_combined = np.concatenate([left_w, right_w])\n",
    "    flux_combined = np.concatenate([left_f, right_f])\n",
    "    error_combined = np.concatenate([left_e, right_e])\n",
    "\n",
    "    return wave_combined, flux_combined, error_combined"
   ]
  },
  {
   "cell_type": "code",
   "execution_count": null,
   "id": "a10595b6",
   "metadata": {},
   "outputs": [],
   "source": [
    "x, y = 25, 34\n",
    "w1, f1, e1 = read_spectrum('fits/4s3d.fits', 'fits/subtracted_cube_full4.fits', x, y)\n",
    "w2, f2, e2 = read_spectrum('fits/5s3d.fits', 'fits/subtracted_cube_full5.fits', x, y)\n",
    "w3, f3, e3 = read_spectrum('fits/6s3d.fits', 'fits/subtracted_cube_full6.fits', x, y)\n",
    "\n",
    "# Merging step by step\n",
    "w12, f12, e12 = merge_overlap(w1, f1, e1, w2, f2, e2)\n",
    "w123, f123, e123 = merge_overlap(w12, f12, e12, w3, f3, e3)\n",
    "\n",
    "table = Table([w123, f123, e123], names=('wavelength', 'flux', 'error'))\n",
    "table.write(f'fits/merged_spectrum{x}_{y}.fits', format='fits', overwrite=True)\n",
    "print(f\"Successfully saved as fits/merged_spectrum{x}_{y}.fits\")"
   ]
  }
 ],
 "metadata": {
  "kernelspec": {
   "display_name": "Python 3",
   "language": "python",
   "name": "python3"
  },
  "language_info": {
   "codemirror_mode": {
    "name": "ipython",
    "version": 3
   },
   "file_extension": ".py",
   "mimetype": "text/x-python",
   "name": "python",
   "nbconvert_exporter": "python",
   "pygments_lexer": "ipython3",
   "version": "3.11.4"
  }
 },
 "nbformat": 4,
 "nbformat_minor": 5
}
