{
 "cells": [
  {
   "cell_type": "markdown",
   "id": "14543df7",
   "metadata": {},
   "source": [
    "Importing modules"
   ]
  },
  {
   "cell_type": "code",
   "execution_count": 1,
   "id": "4adfcb1a",
   "metadata": {},
   "outputs": [],
   "source": [
    "from spectral_cube import SpectralCube\n",
    "from scipy.signal import find_peaks\n",
    "from astropy.table import Table\n",
    "from helpers import get_error_spectrum"
   ]
  },
  {
   "cell_type": "code",
   "execution_count": 2,
   "id": "fbc5a50a",
   "metadata": {},
   "outputs": [],
   "source": [
    "def detect_lines(fits_file, subtracted_cube, x, y, snr_thresh=3):\n",
    "    spectrum = subtracted_cube.unmasked_data[:, y, x]  # shape (N_channels,)\n",
    "    wavelengths = subtracted_cube.spectral_axis.to('um')  # shape (N_channels,)\n",
    "    total_error = get_error_spectrum(fits_file, subtracted_cube, x, y)\n",
    "\n",
    "    snr = spectrum / total_error\n",
    "\n",
    "    # Find peaks in the spectrum with SNR > threshold\n",
    "    peak_indices, _ = find_peaks(snr, height=snr_thresh)\n",
    "    \n",
    "    # Extract peak wavelengths and SNRs\n",
    "    peak_wavelengths = wavelengths[peak_indices]\n",
    "    peak_snr_values = snr[peak_indices]\n",
    "    peak_fluxes = spectrum[peak_indices]\n",
    "    return list(zip(peak_wavelengths, peak_fluxes, peak_snr_values))"
   ]
  },
  {
   "cell_type": "code",
   "execution_count": 3,
   "id": "96c2347f",
   "metadata": {},
   "outputs": [],
   "source": [
    "def detect_lines_from_table(wavelengths, flux, error, x, y, snr_thresh=3):\n",
    "    snr = flux / error\n",
    "\n",
    "    # Find peaks in the spectrum with SNR > threshold\n",
    "    peak_indices, _ = find_peaks(snr, height=snr_thresh)\n",
    "    \n",
    "    # Extract peak wavelengths and SNRs\n",
    "    peak_wavelengths = wavelengths[peak_indices]\n",
    "    peak_fluxes = flux[peak_indices]\n",
    "    peak_snr_values = snr[peak_indices]\n",
    "    return list(zip(peak_wavelengths, peak_fluxes, peak_snr_values))"
   ]
  },
  {
   "cell_type": "code",
   "execution_count": 4,
   "id": "a7c5456e",
   "metadata": {},
   "outputs": [],
   "source": [
    "def make_line_table(x, y):\n",
    "    # print(f'x, y: ({x}, {y})')\n",
    "\n",
    "    subtracted_cube1 = SpectralCube.read('../fits/subtracted_cube_full4.fits')\n",
    "    subtracted_cube2 = SpectralCube.read('../fits/subtracted_cube_full5.fits')\n",
    "    subtracted_cube3 = SpectralCube.read('../fits/subtracted_cube_full6.fits')\n",
    "\n",
    "    lines1 = detect_lines('../fits/4s3d.fits', subtracted_cube1, x, y, snr_thresh=3)\n",
    "    lines2 = detect_lines('../fits/5s3d.fits', subtracted_cube2, x, y, snr_thresh=3)\n",
    "    lines3 = detect_lines('../fits/6s3d.fits', subtracted_cube3, x, y, snr_thresh=3)\n",
    "\n",
    "    combined_lines = lines1 + lines2 + lines3\n",
    "    # for lam, flux, snr_val in combined_lines:\n",
    "    #     print(f\"Wavelength: {lam:.4f}, SNR: {snr_val:.2f}\")\n",
    "\n",
    "    # print(f\"Line count: {len(combined_lines)}\")\n",
    "\n",
    "    wavelengths, flux, snr = zip(*combined_lines)\n",
    "\n",
    "    tbl = Table([wavelengths, flux, snr], names=('wavelength', 'flux', 'snr'))\n",
    "    \n",
    "    tbl.sort('wavelength')\n",
    "\n",
    "    wavelengths = tbl['wavelength']\n",
    "    \n",
    "    # Temporary list to store rows to keep\n",
    "    rows_to_keep = [0]  # start by keeping the first row\n",
    "\n",
    "    for i in range(1, len(wavelengths)):\n",
    "        # If it's far enough from the previous kept row, keep it\n",
    "        if abs(wavelengths[i] - wavelengths[rows_to_keep[-1]]) > 0.005:\n",
    "            rows_to_keep.append(i)\n",
    "        else:\n",
    "            # Check which one has higher value (e.g. in 'snr')\n",
    "            if tbl['flux'][i] > tbl['flux'][rows_to_keep[-1]]:\n",
    "                rows_to_keep[-1] = i  # replace with the better one\n",
    "\n",
    "    # Apply the filter\n",
    "    clean_tbl = tbl[rows_to_keep]\n",
    "\n",
    "    clean_tbl.write(f'../fits/detected_lines{x}_{y}.fits', format='fits', overwrite=True)\n",
    "    # print(clean_tbl)\n",
    "    \n",
    "    print(f\"Successfully saved as fits/detected_lines{x}_{y}.fits\")"
   ]
  },
  {
   "cell_type": "code",
   "execution_count": 5,
   "id": "53f7ee43",
   "metadata": {},
   "outputs": [],
   "source": [
    "# make_line_table(23,26)\n",
    "# make_line_table(25,34)\n",
    "# make_line_table(35,41)"
   ]
  },
  {
   "cell_type": "code",
   "execution_count": 6,
   "id": "290b4c15",
   "metadata": {},
   "outputs": [],
   "source": [
    "def make_latex_table(x,y):\n",
    "    table = Table.read(f'../fits/detected_lines{x}_{y}.fits', format=\"fits\")\n",
    "    # Peek at the first few rows\n",
    "    print(table[:5])\n",
    "\n",
    "    # Convert to pandas\n",
    "    df = table[:20].to_pandas()\n",
    "\n",
    "    # Export to LaTeX\n",
    "    latex_table = df.to_latex(f\"../Line Tables/lines_table{x}_{y}.tex\",\n",
    "    index=False,  # To not include the DataFrame index as a column in the table\n",
    "    caption=\"20 Detected Lines\",  # The caption to appear above the table in the LaTeX document\n",
    "    position=\"htbp\",  # The preferred positions where the table should be placed in the document ('here', 'top', 'bottom', 'page')\n",
    "    column_format=\"lccc\",  # The format of the columns: left-aligend first column and center-aligned remaining columns as per APA guidelines\n",
    "    escape=False,  # Disable escaping LaTeX special characters in the DataFrame\n",
    "    float_format=\"{:0.2f}\".format  # Formats floats to two decimal places\n",
    "    )\n",
    "\n",
    "    print(latex_table)\n",
    "    print(f\"Saved as lines_table{x}_{y}.tex\")"
   ]
  },
  {
   "cell_type": "code",
   "execution_count": 7,
   "id": "c9ae1609",
   "metadata": {},
   "outputs": [],
   "source": [
    "# make_latex_table(23,26)\n",
    "# make_latex_table(25,34)\n",
    "# make_latex_table(35,41)"
   ]
  }
 ],
 "metadata": {
  "kernelspec": {
   "display_name": "Python 3",
   "language": "python",
   "name": "python3"
  },
  "language_info": {
   "codemirror_mode": {
    "name": "ipython",
    "version": 3
   },
   "file_extension": ".py",
   "mimetype": "text/x-python",
   "name": "python",
   "nbconvert_exporter": "python",
   "pygments_lexer": "ipython3",
   "version": "3.11.4"
  }
 },
 "nbformat": 4,
 "nbformat_minor": 5
}
